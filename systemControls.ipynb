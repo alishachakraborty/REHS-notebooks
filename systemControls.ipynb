{
 "cells": [
  {
   "cell_type": "markdown",
   "metadata": {},
   "source": [
    "                           System Controls for Comet in Terminal(Mac)"
   ]
  },
  {
   "cell_type": "markdown",
   "metadata": {},
   "source": [
    "                     This is a tutorial on the usage of terminal commands when using Comet"
   ]
  },
  {
   "cell_type": "markdown",
   "metadata": {},
   "source": [
    "                    Logging On"
   ]
  },
  {
   "cell_type": "markdown",
   "metadata": {},
   "source": [
    "! ssh -l username@comet.sdsc.edu"
   ]
  },
  {
   "cell_type": "markdown",
   "metadata": {},
   "source": [
    "This command creates a secure shell, allowing you to access a computer over an unsecured network. "
   ]
  },
  {
   "cell_type": "markdown",
   "metadata": {},
   "source": [
    "                            Who is on the computer"
   ]
  },
  {
   "cell_type": "code",
   "execution_count": 48,
   "metadata": {},
   "outputs": [
    {
     "name": "stdout",
     "output_type": "stream",
     "text": [
      "alishac\n"
     ]
    }
   ],
   "source": [
    "! whoami"
   ]
  },
  {
   "cell_type": "markdown",
   "metadata": {},
   "source": [
    "Tells you which account your server is on which can be helpful when switching around between nodes"
   ]
  },
  {
   "cell_type": "markdown",
   "metadata": {},
   "source": [
    "                            Directory Commands"
   ]
  },
  {
   "cell_type": "code",
   "execution_count": 49,
   "metadata": {},
   "outputs": [
    {
     "name": "stdout",
     "output_type": "stream",
     "text": [
      "mkdir: cannot create directory ‘directory’: File exists\n",
      "total 176\n",
      "drwxr-xr-x 12 alishac  1007   4096 Jul 16 17:35  .\n",
      "drwxr-xr-x  1 root    root    4096 Jul 11 19:31  ..\n",
      "-rw-------  1 alishac  1007     71 Jul 11 19:26  .bash_history\n",
      "-rw-r--r--  1 alishac  1007    220 Apr  4  2018  .bash_logout\n",
      "-rw-r--r--  1 alishac  1007   3771 Apr  4  2018  .bashrc\n",
      "drwx------  2 alishac  1007   4096 Jul  9 16:07  .cache\n",
      "drwxr-xr-x  2 alishac users   4096 Jul 16 03:59  directory\n",
      "drwx------  3 alishac  1007   4096 Jul  9 16:07  .gnupg\n",
      "drwxr-xr-x  2 alishac users   4096 Jul 16 17:35  .ipynb_checkpoints\n",
      "drwxr-xr-x  5 alishac users   4096 Jul 11 19:34  .ipython\n",
      "drwxr-xr-x  3 alishac users   4096 Jul  9 02:56  .jupyter\n",
      "-rw-------  1 alishac  1007     65 Jul 11 18:28  jupyterhub_cookie_secret\n",
      "-rw-r--r--  1 alishac  1007      5 Jul 11 19:08  jupyterhub-proxy.pid\n",
      "-rw-r--r--  1 alishac  1007 102400 Jul 11 18:28  jupyterhub.sqlite\n",
      "drwxr-xr-x  3 alishac users   4096 Jul  9 02:55  .local\n",
      "-rw-r--r--  1 alishac  1007    807 Apr  4  2018  .profile\n",
      "drwxr-xr-x  2 alishac  1007   4096 Jul 16 01:07  .ssh\n",
      "drwxr-xr-x  3 alishac users   4096 Jul 16 18:26  SystemControls\n",
      "drwxr-xr-x  2 alishac users   4096 Jul 16 17:35 'Untitled Folder 1'\n"
     ]
    }
   ],
   "source": [
    "! mkdir directory #1\n",
    "! cd directory/ #2\n",
    "! ls -al #3"
   ]
  },
  {
   "cell_type": "markdown",
   "metadata": {},
   "source": [
    "1) This creates a directory where you can store code or clone github repositories on\n",
    "\n",
    "2) This allows you to go inside the directory to add or create files inside the directory\n",
    "\n",
    "3) This lists all the files inside the directory, including the type, the date, the ownership, and name of directory entry\n",
    "\n",
    "Rather than typing the directory name out, a shortcut is to type\n",
    "cd, the first few letters of the directory/file name, and hit tab on your keyboard. This will automatically put the file name on the command line "
   ]
  },
  {
   "cell_type": "code",
   "execution_count": 50,
   "metadata": {},
   "outputs": [],
   "source": [
    "! cd directory\n",
    "! cd ../"
   ]
  },
  {
   "cell_type": "markdown",
   "metadata": {},
   "source": [
    "To get out of a file or a directory\n",
    "The command ../ can be put multiple times depending on the directory hiearchy.\n",
    "For example, if I created a file in a directory on my login node, the default setting when logging into comet, and I wanted to go back to my login node I would use..."
   ]
  },
  {
   "cell_type": "code",
   "execution_count": 51,
   "metadata": {},
   "outputs": [
    {
     "name": "stdout",
     "output_type": "stream",
     "text": [
      "/bin/sh: 1: cd../../: not found\n"
     ]
    }
   ],
   "source": [
    "! cd../../"
   ]
  },
  {
   "cell_type": "markdown",
   "metadata": {},
   "source": [
    "The first ../ gets me out of the file in the directory\n",
    "The second ../ gets me out of the directory on the login node"
   ]
  },
  {
   "cell_type": "markdown",
   "metadata": {},
   "source": [
    "                                    Modules"
   ]
  },
  {
   "cell_type": "markdown",
   "metadata": {},
   "source": [
    "Environment Modules allows for a dynamic modification of the users environment with modulefiles. This basically means that users are able to  change environment variables, compilers, and libraries #explain more"
   ]
  },
  {
   "cell_type": "code",
   "execution_count": 52,
   "metadata": {},
   "outputs": [
    {
     "name": "stdout",
     "output_type": "stream",
     "text": [
      "/bin/sh: 1: module: not found\n",
      "/bin/sh: 1: module: not found\n",
      "/bin/sh: 1: module: not found\n"
     ]
    }
   ],
   "source": [
    "! module list #1\n",
    "! module avail #2\n",
    "! module purge #3"
   ]
  },
  {
   "cell_type": "markdown",
   "metadata": {},
   "source": [
    "1) This lists the modules that are loaded in your environment. If you have not added any modules, then executing this command should say No ModuleFiles Currently Loaded. \n",
    "\n",
    "2) This lists the avaliable modules\n",
    "\n",
    "3) This deletes all the loaded modules in your environment"
   ]
  },
  {
   "cell_type": "markdown",
   "metadata": {},
   "source": [
    "Follow these steps to create environment modules used to run Comet..."
   ]
  },
  {
   "cell_type": "code",
   "execution_count": 53,
   "metadata": {},
   "outputs": [
    {
     "name": "stdout",
     "output_type": "stream",
     "text": [
      "/bin/sh: 1: module: not found\n",
      "/bin/sh: 1: module: not found\n",
      "/bin/sh: 1: module: not found\n",
      "/bin/sh: 1: module: not found\n"
     ]
    }
   ],
   "source": [
    "! module load gnutools\n",
    "! module load intel\n",
    "! module load mvapich2_ib\n",
    "! module list"
   ]
  },
  {
   "cell_type": "markdown",
   "metadata": {},
   "source": [
    "These three environment modules are the basic modules needed to run a notebook on Comet. The intel compilers are suggested when using Comet. To make sure that the modules are loaded, execute module list. All three modules should show up"
   ]
  },
  {
   "cell_type": "code",
   "execution_count": 54,
   "metadata": {},
   "outputs": [],
   "source": [
    "#!/bin/bash"
   ]
  },
  {
   "cell_type": "markdown",
   "metadata": {},
   "source": [
    "This can be the first line of the module scripts. This mean that the scripts should be run in bash. This can also be used when creating a bash script by putting this at the top of the script"
   ]
  },
  {
   "cell_type": "markdown",
   "metadata": {},
   "source": [
    "If there is a module: command not found when running a module in a batch job or switching between shells use..."
   ]
  },
  {
   "cell_type": "code",
   "execution_count": 55,
   "metadata": {},
   "outputs": [
    {
     "name": "stdout",
     "output_type": "stream",
     "text": [
      "/bin/sh: 1: source: not found\n"
     ]
    }
   ],
   "source": [
    "! source /etc/profile.d/modules.sh "
   ]
  },
  {
   "cell_type": "markdown",
   "metadata": {},
   "source": [
    "    Running a Notebook Inside Comet"
   ]
  },
  {
   "cell_type": "markdown",
   "metadata": {},
   "source": [
    "To run a notebook using Comet, make sure you are on a protected network (ex. UCSD-PROTECTED).\n",
    "Go into your directory file that has notebooks that you would like to run. \n",
    "To get an interactive node, use this command..."
   ]
  },
  {
   "cell_type": "code",
   "execution_count": null,
   "metadata": {},
   "outputs": [],
   "source": [
    "! srun --pty --nodes=1 --ntasks-per-node=24 -p compute -t 02:00:00 --wait 0 /bin/bash"
   ]
  },
  {
   "cell_type": "markdown",
   "metadata": {},
   "source": [
    "It will say job XXXX has been allocated resources and will give the command line when you have been given a node. In order to run a notebook, you have to load a singularity module, which creates an interactive shell inside the container..."
   ]
  },
  {
   "cell_type": "code",
   "execution_count": null,
   "metadata": {},
   "outputs": [],
   "source": [
    "! module load singularity"
   ]
  },
  {
   "cell_type": "code",
   "execution_count": null,
   "metadata": {},
   "outputs": [],
   "source": [
    "! singularity shell /share/apps/gpu/singularity/sdsc_ubuntu_tf1.1_keras_R.img"
   ]
  },
  {
   "cell_type": "markdown",
   "metadata": {},
   "source": [
    "To get a URL that connect your local browser to an interactive comet session use ..."
   ]
  },
  {
   "cell_type": "code",
   "execution_count": null,
   "metadata": {},
   "outputs": [],
   "source": [
    "! ipython notebook --no-browser --ip=`/bin/hostname`"
   ]
  },
  {
   "cell_type": "markdown",
   "metadata": {},
   "source": [
    "This will give a http link. Copy and Paste it into your browser and you will be able to run a notebook on Comet!"
   ]
  },
  {
   "cell_type": "markdown",
   "metadata": {},
   "source": [
    "To exit out of a notebook, use control-C\n",
    "\n",
    "To exit out of a node , use control-D\n",
    "\n",
    "To exit out of Comet, use control-D or type exit"
   ]
  },
  {
   "cell_type": "code",
   "execution_count": null,
   "metadata": {},
   "outputs": [],
   "source": []
  }
 ],
 "metadata": {
  "kernelspec": {
   "display_name": "Python 3",
   "language": "python",
   "name": "python3"
  },
  "language_info": {
   "codemirror_mode": {
    "name": "ipython",
    "version": 3
   },
   "file_extension": ".py",
   "mimetype": "text/x-python",
   "name": "python",
   "nbconvert_exporter": "python",
   "pygments_lexer": "ipython3",
   "version": "3.7.3"
  }
 },
 "nbformat": 4,
 "nbformat_minor": 2
}
