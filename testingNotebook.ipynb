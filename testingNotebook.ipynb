{
 "cells": [
  {
   "cell_type": "code",
   "execution_count": 1,
   "metadata": {},
   "outputs": [
    {
     "name": "stdout",
     "output_type": "stream",
     "text": [
      "Last login: Wed Jul 24 16:03:05 2019 from 169.228.189.57\n",
      "Rocks 6.2 (SideWinder)\n",
      "Profile built 16:45 08-Feb-2016\n",
      "\n",
      "Kickstarted 17:27 08-Feb-2016\n",
      "                                                                       \n",
      "                      WELCOME TO \n",
      "      __________________  __  _______________\n",
      "        -----/ ____/ __ \\/  |/  / ____/_  __/\n",
      "          --/ /   / / / / /|_/ / __/   / /\n",
      "           / /___/ /_/ / /  / / /___  / /\n",
      "           \\____/\\____/_/  /_/_____/ /_/\n",
      "\n",
      "*******************************************************************************\n",
      "\n",
      "[1] Example Scripts: /share/apps/examples\n",
      "\n",
      "[2] Filesystems:\n",
      "\n",
      "     (a) Lustre scratch filesystem : /oasis/scratch/comet/$USER/temp_project\n",
      "         (Preferred: Scalable large block I/O)\n",
      "            *** Meant for storing data required for active simulations\n",
      "            *** Not backed up and should not be used for storing data long term\n",
      "            *** Periodically clear old data not required for active simulations\n",
      "\n",
      "     (b) Compute/GPU node local SSD storage: /scratch/$USER/$SLURM_JOBID\n",
      "         (Meta-data intensive jobs, high IOPs)\n",
      "\n",
      "     (c) Lustre projects filesystem: /oasis/projects/nsf\n",
      "     \n",
      "     (d) /home/$USER : Only for source files, libraries, binaries.\n",
      "         *Do not* use for I/O intensive jobs.\n",
      "\n",
      "[3] Comet User Guide: http://www.sdsc.edu/support/user_guides/comet.html\n",
      "******************************************************************************\n",
      "\u001b]0;alishac@comet-ln3:~\u0007[alishac@comet-ln3 ~]$ ^C\n",
      "\u001b]0;alishac@comet-ln3:~\u0007[alishac@comet-ln3 ~]$ "
     ]
    }
   ],
   "source": [
    "! ssh -t alishac@comet.sdsc.edu"
   ]
  },
  {
   "cell_type": "code",
   "execution_count": 5,
   "metadata": {
    "scrolled": true
   },
   "outputs": [
    {
     "name": "stdout",
     "output_type": "stream",
     "text": [
      "srun: job 25124288 queued and waiting for resources\n",
      "srun: job 25124288 has been allocated resources\n",
      "\u001b]0;alishac@comet-13-39:~\u0007[alishac@comet-13-39 ~]$ ^C\n",
      "\u001b]0;alishac@comet-13-39:~\u0007[alishac@comet-13-39 ~]$ /bin/sh: module: command not found\n"
     ]
    }
   ],
   "source": [
    "! \"srun --pty --nodes=1 --ntasks-per-node=24 -p compute -t 02:00:00 --wait 0 /bin/bash\""
   ]
  },
  {
   "cell_type": "code",
   "execution_count": 14,
   "metadata": {
    "scrolled": true
   },
   "outputs": [
    {
     "name": "stdout",
     "output_type": "stream",
     "text": [
      "srun: job 25124471 queued and waiting for resources\n",
      "srun: job 25124471 has been allocated resources\n",
      "/bin/bash: module: No such file or directory\n",
      "srun: error: comet-13-61: tasks 0-23: Exited with exit code 127\n",
      "Connection to comet.sdsc.edu closed.\n"
     ]
    }
   ],
   "source": [
    "! module load singularity"
   ]
  },
  {
   "cell_type": "code",
   "execution_count": null,
   "metadata": {},
   "outputs": [],
   "source": [
    "! singularity shell /share/apps/gpu/singularity/sdsc_ubuntu_tf1.1_keras_R.img"
   ]
  },
  {
   "cell_type": "code",
   "execution_count": null,
   "metadata": {},
   "outputs": [],
   "source": [
    "! ipython notebook --no-browser --ip=`/bin/hostname`"
   ]
  }
 ],
 "metadata": {
  "kernelspec": {
   "display_name": "Python 3",
   "language": "python",
   "name": "python3"
  },
  "language_info": {
   "codemirror_mode": {
    "name": "ipython",
    "version": 3
   },
   "file_extension": ".py",
   "mimetype": "text/x-python",
   "name": "python",
   "nbconvert_exporter": "python",
   "pygments_lexer": "ipython3",
   "version": "3.7.3"
  }
 },
 "nbformat": 4,
 "nbformat_minor": 2
}
